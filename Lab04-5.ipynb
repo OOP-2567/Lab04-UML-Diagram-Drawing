{
 "cells": [
  {
   "cell_type": "markdown",
   "metadata": {
    "dotnet_interactive": {
     "language": "csharp"
    },
    "polyglot_notebook": {
     "kernelName": "csharp"
    }
   },
   "source": [
    "# Lab04.5  การวาดไดอะแกรมที่มีองค์ประกอบมากขึ้น"
   ]
  },
  {
   "cell_type": "markdown",
   "metadata": {},
   "source": [
    "ให้นักศึกษาพิจารณา uml diagram ของ code ต่อไปนี้ในกระดาษ โดยยังไม่ต้องใช้ plantuml จากนั้นให้ไปวาดใน  plantuml แล้วเปรียบเทียบผลที่ได้ว่าตรงตามที่คิดหรือไม่"
   ]
  },
  {
   "cell_type": "markdown",
   "metadata": {},
   "source": [
    "\n",
    "## 1. \n",
    "\n",
    "``` plantuml\n",
    "@startuml\n",
    "\"Football team\" \"1..1\" *-- \"12..20\" \"Player\"\n",
    "\"Football team\" \"1..1\" *-- \"1..2\" \"Coach\"\n",
    "\"Coach\" - \"Player\": > teach\n",
    "@enduml\n",
    "```\n",
    "\n"
   ]
  },
  {
   "cell_type": "markdown",
   "metadata": {},
   "source": [
    "### รูปภาพการทดลอง 66030130\n",
    "![Image](Pictures/Work-07.png)"
   ]
  },
  {
   "cell_type": "markdown",
   "metadata": {},
   "source": [
    "## 2. \n",
    "\n",
    "``` plantuml\n",
    "@startuml\n",
    "class Student\n",
    "{\n",
    "  - name\n",
    "  - ID\n",
    "  - GPA\n",
    "  + enrollSubject()\n",
    "  + takeExamination()\n",
    "}\n",
    "\n",
    "class Subject\n",
    "{\n",
    "  - name\n",
    "  - capacity\n",
    "  - studytime\n",
    "  + enrollStudent()\n",
    "  + exam()\n",
    "}\n",
    "\n",
    "class Professor\n",
    "{\n",
    "  - name\n",
    "  - emailAddress\n",
    "  - instructs()\n",
    "}\n",
    "\n",
    "Student \"10..40\" - \"0..1\" Subject : > enrolled in\n",
    "Subject \"1\" - \"1..3 \"Professor : < instructs\n",
    "@enduml\n",
    "\n",
    "```"
   ]
  },
  {
   "cell_type": "markdown",
   "metadata": {},
   "source": [
    "### รูปภาพการทดลอง 66030130\n",
    "![Image](Pictures/Work-08.png)"
   ]
  },
  {
   "cell_type": "markdown",
   "metadata": {},
   "source": [
    "## 3. \n",
    "\n",
    "``` plantuml\n",
    "@startuml\n",
    "class Clock\n",
    "{\n",
    " - time\n",
    " + getTime()\n",
    " + incrementTime()\n",
    "}\n",
    "\n",
    "class Display\n",
    "{\n",
    " - time\n",
    " + initTime()\n",
    " + setTime()\n",
    " + displayTime()\n",
    "}\n",
    "\n",
    "class HistoryCall\n",
    "{\n",
    " - count\n",
    " + call()\n",
    " + answer()\n",
    "} \n",
    "\n",
    "class Call\n",
    "{\n",
    " - callDuration\n",
    " + getDuration()\n",
    "} \n",
    "\n",
    "class OutgoingCall\n",
    "{\n",
    "  - number\n",
    "  + Dial()\n",
    "}\n",
    "\n",
    "class IncomingCall\n",
    "{\n",
    "  - number\n",
    "  + Answer()\n",
    "}\n",
    "\n",
    "MobilePhone \"1\" *-- \"1\" Clock\n",
    "MobilePhone \"1\" *-- \"1\" Display\n",
    "MobilePhone \"1\" *- \"1\" HistoryCall\n",
    "HistoryCall \"1\" *-- \"n\" Call\n",
    "Call <|-- IncomingCall\n",
    "Call <|-- OutgoingCall\n",
    "OutgoingCall \"1\" -- \"1..12\" DialPad : > use\n",
    "IncomingCall \"1\" -- \"1..2\" AnswerButton : > use\n",
    "DialPad -|> Keypad \n",
    "Keypad <|- AnswerButton\n",
    "@enduml\n",
    "```\n"
   ]
  },
  {
   "cell_type": "markdown",
   "metadata": {},
   "source": [
    "### รูปภาพการทดลอง 66030130\n",
    "![Image](Pictures/Work-09.png)"
   ]
  },
  {
   "cell_type": "markdown",
   "metadata": {},
   "source": [
    "## จบการทดลอง PlantUML  (online)"
   ]
  }
 ],
 "metadata": {
  "kernelspec": {
   "display_name": ".NET (C#)",
   "language": "C#",
   "name": ".net-csharp"
  },
  "polyglot_notebook": {
   "kernelInfo": {
    "defaultKernelName": "csharp",
    "items": [
     {
      "aliases": [],
      "languageName": "csharp",
      "name": "csharp"
     }
    ]
   }
  }
 },
 "nbformat": 4,
 "nbformat_minor": 2
}
