{
 "cells": [
  {
   "cell_type": "markdown",
   "metadata": {
    "dotnet_interactive": {
     "language": "csharp"
    },
    "polyglot_notebook": {
     "kernelName": "csharp"
    }
   },
   "source": [
    "# Lab04.4  การวาดแผนภาพตามแนวคิด Association abstraction"
   ]
  },
  {
   "cell_type": "markdown",
   "metadata": {},
   "source": [
    "Association abstraction เป็นการแสดงความสัมพันธ์ระหว่าง class ที่มีความสัมพันธ์แบบเกี่ยวพันกัน ไม่สามารถอธิบายโดย Abstraction แบบอื่น ๆ ได้\n",
    "- ไม่ใช่ \"Is a\" แบบ Classification\n",
    "- ไม่ใช่ \"Is part of\" แบบ Aggregation\n",
    "- ไม่ใช่ \"Is kind of\" แบบ Generalization\n",
    "- แต่เป็น \"Is related to\" "
   ]
  },
  {
   "cell_type": "markdown",
   "metadata": {},
   "source": [
    "### รูปแบบ\n",
    "``` plantuml\n",
    "@startuml\n",
    "\"Class A\" -- \"Class B\" :  relationship\n",
    "\"Class C\" -- \"Class D\" : > relationship\n",
    "\"Class E\" -- \"Class F\" : < relationship\n",
    "@enduml\n",
    "```\n",
    "\n",
    "![](./Pictures/Pict-35.png)"
   ]
  },
  {
   "cell_type": "markdown",
   "metadata": {},
   "source": [
    "### ตัวอย่าง\n",
    "\n",
    "1. คนเป็นเจ้าของรถยนต์\n",
    "\n",
    "``` plantuml\n",
    "@startuml\n",
    "class Car\n",
    "class Person\n",
    "Car -- Person : < owns\n",
    "@enduml\n",
    "```\n",
    "\n",
    "![](./Pictures/Pict-36.png)"
   ]
  },
  {
   "cell_type": "markdown",
   "metadata": {},
   "source": [
    "## Cardinality ใน Association Abstraction\n",
    "\n",
    "“Cardinality”  คือตัวเลขที่ใช้แสดงจำนวนของสมาชิกที่สามารถมีได้ใน Class หนึ่งๆ ที่มีส่วนร่วมใน Association\n",
    "\n",
    "### ตัวอย่าง \n",
    "ผู้หญิง (แม่) สามารถมีลูกได้ตั้งแต่ 0 คน ถึงกี่คนก็ได้ ในทางกลับกัน ลูก 1 คน สามารถมีแม่ได้เพียงคนเดียว\n",
    "\n",
    "![](./Pictures/Pict-37.png)\n",
    "\n"
   ]
  },
  {
   "cell_type": "markdown",
   "metadata": {},
   "source": [
    "\n",
    "ขั้นตอนที่ 1 : เขียน class 2 class ที่มีความสัมพันธ์และลากเส้นตรงใส่ชื่อแสดงความสัมพันธ์\n",
    "\n",
    "``` plantuml\n",
    "@startuml\n",
    "class Mom\n",
    "{\n",
    "    - Attribues\n",
    "    + Method()\n",
    "}\n",
    "\n",
    "class Son\n",
    "{\n",
    "    - Attribues\n",
    "    + Method()\n",
    "}\n",
    "\n",
    "Mom - Son : has\n",
    "@enduml\n",
    "``` \n",
    "จะได้ผลลัพธ์ดังรูป\n",
    "\n",
    "![](./Pictures/Pict-38.png)\n"
   ]
  },
  {
   "cell_type": "markdown",
   "metadata": {},
   "source": [
    "หรือจะละไว้ในกรณีที่ไม่ต้องการแสดงรายละเอียดภายในคลาสก็ได้ ดังตัวอย่าง\n",
    "\n",
    "``` plantuml\n",
    "@startuml\n",
    "Mom - Son : has\n",
    "@enduml\n",
    "```\n",
    "\n",
    "จะได้ผลลัพธ์ดังรูป\n",
    "\n",
    "![](./Pictures/Pict-39.png)"
   ]
  },
  {
   "cell_type": "markdown",
   "metadata": {},
   "source": [
    "ขั้นตอนที่ 2 : เขียนลูกศรเพื่อแสดงทิศทางของการอ่านความสัมพันธ์ให้ถูกต้อง\n",
    "\n",
    "``` plantuml\n",
    "@startuml\n",
    "Mom - Son : > has\n",
    "@enduml\n",
    "```\n",
    "\n",
    "จะได้ผลลัพธ์ดังรูป\n",
    "\n",
    "![](./Pictures/Pict-40.png)"
   ]
  },
  {
   "cell_type": "markdown",
   "metadata": {},
   "source": [
    "ขั้นตอนที่ 3 : พิจารณา class ที่อยู่ติดกับหัวลูกศรว่ามีความสัมพันธ์กับ class แรกด้วย min-card และ max-card เป็นเท่าใด\n",
    "\n",
    "``` plantuml\n",
    "@startuml\n",
    "Mom - \"0..n\" Son : > has\n",
    "@enduml\n",
    "```\n",
    "\n",
    "จะได้ผลลัพธ์ดังรูป\n",
    "\n",
    "![](./Pictures/Pict-41.png)"
   ]
  },
  {
   "cell_type": "markdown",
   "metadata": {},
   "source": [
    "ขั้นตอนที่ 4 : พิจารณา class ที่อยู่ติดกับหัวลูกศรว่ามีความสัมพันธ์กับ class แรกด้วย min-card และ max-card เป็นเท่าใด จนกระทั่งได้ภาพที่สมบูรณ์\n",
    "\n",
    "``` plantuml\n",
    "@startuml\n",
    "Mom \"1..1\" - \"0..n\" Son : > has\n",
    "@enduml\n",
    "```\n",
    "\n",
    "จะได้ผลลัพธ์ดังรูป\n",
    "\n",
    "![](./Pictures/Pict-42.png)"
   ]
  },
  {
   "cell_type": "markdown",
   "metadata": {},
   "source": [
    "\n",
    "### หมายเหตุ\n",
    "\n",
    "เราสามารถควบคุมทิศทางการวาดคลาสไดอะแกรมได้โดยการเปลี่ยนเครื่องหมาย `-` เป็น `--` ดังตัวอย่าง\n",
    "\n",
    "โดยจำนวนที่เพิ่มขึ้นของ `-` จะมีส่วนเพิ่มระยะห่างระหว่างคลาสด้วย \n",
    "\n",
    "\n",
    "``` plantuml\n",
    "@startuml\n",
    "Mom \"1..1\" - \"0..n\" Son : > has\n",
    "Person \"1..1\" -- \"0..n\" Car : > has\n",
    "Forest \"1..1\" --- \"0..n\" tree : > has\n",
    "@enduml\n",
    "```\n",
    "\n",
    "จะได้ผลลัพธ์ดังรูป\n",
    "\n",
    "![](./Pictures/Pict-43.png)\n",
    "\n",
    "\n",
    "\n"
   ]
  },
  {
   "cell_type": "markdown",
   "metadata": {},
   "source": [
    "##  แบบฝึกหัด\n",
    "\n",
    "1. จงเขียนความสัมพันธ์ในโลกของความเป็นจริง ให้เป็น association diagram โดยเพิ่ม cardinality และ กำหนดทิศทางความสัมพันธ์ให้ถูกต้อง\n",
    "\n",
    "   1.1 คนเป็นเจ้าของรถยนต์\n",
    "   \n",
    "   1.2 แม่มีลูก\n",
    "   \n",
    "   1.3 สามีรักภรรยา\n",
    "   \n",
    "   1.4 ดินสออยู่ในกระเป๋า\n",
    "   \n",
    "   1.5 นักการเมืองออกกฎหมาย\n",
    "   \n",
    "   1.6 ทหารใส่เครื่องแบบ\n",
    "   \n",
    "   1.7 ประธานบริษัทบริหารกิจการ\n",
    "   \n",
    "   1.8 กระดานดำอยู่ในห้องเรียน"
   ]
  },
  {
   "cell_type": "markdown",
   "metadata": {},
   "source": [
    "## คำตอบ\n",
    "1. จงเขียนความสัมพันธ์ในโลกของความเป็นจริง ให้เป็น association diagram โดยเพิ่ม cardinality และ กำหนดทิศทางความสัมพันธ์ให้ถูกต้อง\n",
    "\n",
    "   1.1 คนเป็นเจ้าของรถยนต์ ความสัมพันธ์: คน → รถยนต์\n",
    "\n",
    "   Cardinality:\n",
    "\n",
    "    คนสามารถมีรถยนต์ได้หลายคัน (1..n)\n",
    "\n",
    "    รถยนต์แต่ละคันมีเจ้าของได้เพียงคนเดียว (1..1)\n",
    "\n",
    "    ทิศทาง: จาก คน ไป รถยนต์\n",
    "\n",
    "    1.2 แม่มีลูก ความสัมพันธ์: แม่ → ลูก\n",
    "\n",
    "    Cardinality:\n",
    "\n",
    "    แม่สามารถมีลูกได้หลายคน (1..n)\n",
    "\n",
    "    ลูกแต่ละคนมีแม่ได้เพียงคนเดียว (1..1)\n",
    "\n",
    "    ทิศทาง: จาก แม่ ไป ลูก\n",
    "\n",
    "    1.3 สามีรักภรรยา ความสัมพันธ์: สามี ↔ ภรรยา\n",
    "\n",
    "    Cardinality:\n",
    "\n",
    "    สามีสามารถมีภรรยาได้ 1 คน (1..1)\n",
    "\n",
    "    ภรรยาสามารถมีสามีได้ 1 คน (1..1)\n",
    "\n",
    "    ทิศทาง: ความสัมพันธ์สองทาง (bidirectional)\n",
    "\n",
    "    1.4 ดินสออยู่ในกระเป๋า ความสัมพันธ์: ดินสอ → กระเป๋า\n",
    "\n",
    "    Cardinality:\n",
    "\n",
    "    ดินสอ 1 แท่งสามารถอยู่ในกระเป๋าได้ 1 ใบ (1..1)\n",
    "\n",
    "    กระเป๋า 1 ใบสามารถใส่ดินสอได้หลายแท่ง (0..n)\n",
    "\n",
    "    ทิศทาง: จาก ดินสอ ไป กระเป๋า\n",
    "\n",
    "    1.5 นักการเมืองออกกฎหมาย ความสัมพันธ์: นักการเมือง → กฎหมาย\n",
    "\n",
    "    Cardinality:\n",
    "\n",
    "    นักการเมือง 1 คนสามารถออกกฎหมายได้หลายฉบับ (0..n)\n",
    "\n",
    "    กฎหมาย 1 ฉบับอาจมาจากนักการเมืองหลายคน (0..n)\n",
    "\n",
    "    ทิศทาง: จาก นักการเมือง ไป กฎหมาย\n",
    "\n",
    "    1.6 ทหารใส่เครื่องแบบ ความสัมพันธ์: ทหาร → เครื่องแบบ\n",
    "\n",
    "    Cardinality:\n",
    "\n",
    "    ทหาร 1 คนสามารถมีเครื่องแบบหลายชุด (1..n)\n",
    "\n",
    "    เครื่องแบบ 1 ชุดเป็นของทหารคนเดียว (1..1)\n",
    "\n",
    "    ทิศทาง: จาก ทหาร ไป เครื่องแบบ\n",
    "\n",
    "    1.7 ประธานบริษัทบริหารกิจการ ความสัมพันธ์: ประธานบริษัท → กิจการ\n",
    "\n",
    "    Cardinality:\n",
    "\n",
    "    ประธานบริษัท 1 คนสามารถบริหารกิจการได้หลายบริษัท (1..n)\n",
    "\n",
    "    บริษัท 1 แห่งมีประธานบริษัทได้เพียงคนเดียว (1..1)\n",
    "\n",
    "    ทิศทาง: จาก ประธานบริษัท ไป กิจการ\n",
    "\n",
    "    1.8 กระดานดำอยู่ในห้องเรียน ความสัมพันธ์: กระดานดำ → ห้องเรียน\n",
    "\n",
    "    Cardinality:\n",
    "\n",
    "    กระดานดำ 1 แผ่นอยู่ในห้องเรียนได้ 1 ห้อง (1..1)\n",
    "\n",
    "    ห้องเรียน 1 ห้องสามารถมีกระดานดำได้หลายแผ่น (0..n)\n",
    "\n",
    "    ทิศทาง: จาก กระดานดำ ไป ห้องเรียน   \n",
    "\n",
    "![Image](Pictures/Work-06.png)"
   ]
  }
 ],
 "metadata": {
  "kernelspec": {
   "display_name": ".NET (C#)",
   "language": "C#",
   "name": ".net-csharp"
  },
  "polyglot_notebook": {
   "kernelInfo": {
    "defaultKernelName": "csharp",
    "items": [
     {
      "aliases": [],
      "languageName": "csharp",
      "name": "csharp"
     }
    ]
   }
  }
 },
 "nbformat": 4,
 "nbformat_minor": 2
}
